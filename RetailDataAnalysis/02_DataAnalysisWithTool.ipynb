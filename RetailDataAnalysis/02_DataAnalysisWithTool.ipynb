{
 "cells": [
  {
   "cell_type": "code",
   "execution_count": 46,
   "id": "8786872f",
   "metadata": {},
   "outputs": [],
   "source": [
    "import psycopg2\n",
    "import os\n",
    "import re\n",
    "import pandas as pd\n",
    "from langchain.tools import tool\n",
    "from urllib.parse import quote_plus\n",
    "from langchain.tools import tool\n",
    "from langchain_core.prompts import ChatPromptTemplate\n",
    "from langchain_openai import ChatOpenAI\n",
    "from langchain.agents import create_react_agent, AgentExecutor\n",
    "from langchain import hub"
   ]
  },
  {
   "cell_type": "code",
   "execution_count": 48,
   "id": "70c56074",
   "metadata": {},
   "outputs": [
    {
     "name": "stdout",
     "output_type": "stream",
     "text": [
      "['input']\n",
      "None\n"
     ]
    }
   ],
   "source": [
    "prompt = ChatPromptTemplate(\n",
    "    [\n",
    "        (\"system\",custom_prompt_str),\n",
    "        (\"user\",\"{input}\" )\n",
    "    ]\n",
    ")\n",
    "print(prompt.input_variables)\n",
    "print(prompt.output_parser)"
   ]
  },
  {
   "cell_type": "code",
   "execution_count": 50,
   "id": "8460d084",
   "metadata": {},
   "outputs": [],
   "source": [
    "def extract_sql_from_text(text: str) -> str:\n",
    "    \"\"\"\n",
    "    Extracts the first SQL code block from the LLM response.\n",
    "    \"\"\"\n",
    "    match = re.search(r\"```sql\\n(.*?)```\", text, re.DOTALL)\n",
    "    if match:\n",
    "        return match.group(1).strip()\n",
    "    else:\n",
    "        # Fallback: return everything from SELECT onward\n",
    "        select_pos = text.lower().find(\"select\")\n",
    "        return text[select_pos:].strip() if select_pos != -1 else text"
   ]
  },
  {
   "cell_type": "code",
   "execution_count": 51,
   "id": "b93ff3c9",
   "metadata": {},
   "outputs": [],
   "source": [
    "@tool\n",
    "def executeQuery(query: str):\n",
    "    '''\n",
    "    This function used to fetch all data based on the query\n",
    "    '''\n",
    "    final_query = extract_sql_from_text(query)\n",
    "    conn = createSupabaseConnection()\n",
    "    print(\"Query from executeQuery -->\", query)\n",
    "    df = pd.read_sql(final_query, conn)\n",
    "    conn.close()\n",
    "    #return df\n",
    "    return df.to_markdown(index=False, tablefmt=\"retaildata\")"
   ]
  },
  {
   "cell_type": "code",
   "execution_count": 52,
   "id": "a7f45f0f",
   "metadata": {},
   "outputs": [],
   "source": [
    "tools = [executeQuery]\n",
    "prompt_hub = hub.pull(\"hwchase17/react\")"
   ]
  },
  {
   "cell_type": "code",
   "execution_count": 54,
   "id": "af6bbb28",
   "metadata": {},
   "outputs": [
    {
     "name": "stdout",
     "output_type": "stream",
     "text": [
      "```sql\n",
      "SELECT \n",
      "    fol.order_id,\n",
      "    fol.order_placement_date,\n",
      "    fol.customer_id,\n",
      "    fol.product_id,\n",
      "    fol.order_qty,\n",
      "    fol.agreed_delivery_date,\n",
      "    fol.actual_delivery_date,\n",
      "    fol.delivery_qty,\n",
      "    fol.\"In Full\",\n",
      "    fol.\"On Time\",\n",
      "    fol.\"On Time In Full\"\n",
      "FROM \n",
      "    fact_order_line fol\n",
      "WHERE \n",
      "    fol.\"In Full\" = 'Yes' AND fol.\"On Time\" = 'Yes';\n",
      "```\n",
      "from extract_sql_from_text \n",
      " SELECT \n",
      "    fol.order_id,\n",
      "    fol.order_placement_date,\n",
      "    fol.customer_id,\n",
      "    fol.product_id,\n",
      "    fol.order_qty,\n",
      "    fol.agreed_delivery_date,\n",
      "    fol.actual_delivery_date,\n",
      "    fol.delivery_qty,\n",
      "    fol.\"In Full\",\n",
      "    fol.\"On Time\",\n",
      "    fol.\"On Time In Full\"\n",
      "FROM \n",
      "    fact_order_line fol\n",
      "WHERE \n",
      "    fol.\"In Full\" = 'Yes' AND fol.\"On Time\" = 'Yes';\n"
     ]
    }
   ],
   "source": [
    "response = prompt | llm\n",
    "output=response.invoke({\"input\":{user_query}})\n",
    "print(output.content)\n",
    "print(\"from extract_sql_from_text \\n\",extract_sql_from_text(output.content))\n",
    "query_output = extract_sql_from_text(output.content)"
   ]
  },
  {
   "cell_type": "code",
   "execution_count": 55,
   "id": "cfeaa93b",
   "metadata": {},
   "outputs": [],
   "source": [
    "agent = create_react_agent(\n",
    "    llm=llm,\n",
    "    tools = tools,\n",
    "    prompt= prompt_hub\n",
    ")\n",
    "\n",
    "agent_executor = AgentExecutor(\n",
    "    agent = agent,\n",
    "    tools= tools,\n",
    "    verbose=False\n",
    ")\n"
   ]
  },
  {
   "cell_type": "code",
   "execution_count": 56,
   "id": "a484d9a8",
   "metadata": {},
   "outputs": [],
   "source": [
    "final_input = f\"\"\"\n",
    "User Question: {user_query}\n",
    "Query to Execute: {output.content}\n",
    "\"\"\""
   ]
  },
  {
   "cell_type": "code",
   "execution_count": 57,
   "id": "69a6ce80",
   "metadata": {},
   "outputs": [
    {
     "name": "stdout",
     "output_type": "stream",
     "text": [
      "SELECT \n",
      "    fol.order_id,\n",
      "    fol.order_placement_date,\n",
      "    fol.customer_id,\n",
      "    fol.product_id,\n",
      "    fol.order_qty,\n",
      "    fol.agreed_delivery_date,\n",
      "    fol.actual_delivery_date,\n",
      "    fol.delivery_qty,\n",
      "    fol.\"In Full\",\n",
      "    fol.\"On Time\",\n",
      "    fol.\"On Time In Full\"\n",
      "FROM \n",
      "    fact_order_line fol\n",
      "WHERE \n",
      "    fol.\"In Full\" = 'Yes' AND fol.\"On Time\" = 'Yes';\n",
      "conn --> <connection object at 0x119f9f760; dsn: 'user=postgres.fxpuwjgwfhkapgjinyss password=xxx dbname=postgres host=aws-0-us-east-2.pooler.supabase.com port=5432 sslmode=require', closed: 0>\n",
      "Query from executeQuery --> ```sql\n",
      "SELECT \n",
      "    fol.order_id,\n",
      "    fol.order_placement_date,\n",
      "    fol.customer_id,\n",
      "    fol.product_id,\n",
      "    fol.order_qty,\n",
      "    fol.agreed_delivery_date,\n",
      "    fol.actual_delivery_date,\n",
      "    fol.delivery_qty,\n",
      "    fol.\"In Full\",\n",
      "    fol.\"On Time\",\n",
      "    fol.\"On Time In Full\"\n",
      "FROM \n",
      "    fact_order_line fol\n",
      "WHERE \n",
      "    fol.\"In Full\" = 'Yes' AND fol.\"On Time\" = 'Yes';\n",
      "```\n",
      "\n"
     ]
    },
    {
     "name": "stderr",
     "output_type": "stream",
     "text": [
      "/var/folders/7_/vzxv0s1j43n3s8qd35q3b6_m0000gn/T/ipykernel_79965/2250908431.py:9: UserWarning: pandas only supports SQLAlchemy connectable (engine/connection) or database string URI or sqlite3 DBAPI2 connection. Other DBAPI2 objects are not tested. Please consider using SQLAlchemy.\n",
      "  df = pd.read_sql(final_query, conn)\n"
     ]
    },
    {
     "name": "stdout",
     "output_type": "stream",
     "text": [
      "[]\n",
      "There are no orders in the database that were shipped both in full and on time.\n"
     ]
    }
   ],
   "source": [
    "print(query_output)\n",
    "response = agent_executor.invoke({\"input\":final_input})\n",
    "print(agent_executor.input_keys)\n",
    "print(response[\"output\"])"
   ]
  },
  {
   "cell_type": "code",
   "execution_count": null,
   "id": "9b5b023e",
   "metadata": {},
   "outputs": [],
   "source": []
  }
 ],
 "metadata": {
  "kernelspec": {
   "display_name": "Python 3",
   "language": "python",
   "name": "python3"
  },
  "language_info": {
   "codemirror_mode": {
    "name": "ipython",
    "version": 3
   },
   "file_extension": ".py",
   "mimetype": "text/x-python",
   "name": "python",
   "nbconvert_exporter": "python",
   "pygments_lexer": "ipython3",
   "version": "3.12.0"
  }
 },
 "nbformat": 4,
 "nbformat_minor": 5
}
