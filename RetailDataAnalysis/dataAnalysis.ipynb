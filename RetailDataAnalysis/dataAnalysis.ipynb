{
 "cells": [
  {
   "cell_type": "code",
   "execution_count": 1,
   "id": "283948a0",
   "metadata": {},
   "outputs": [],
   "source": [
    "import psycopg2\n",
    "import pandas as pd"
   ]
  },
  {
   "cell_type": "code",
   "execution_count": 2,
   "id": "ea4da52b",
   "metadata": {},
   "outputs": [],
   "source": [
    "# Supabase connection details\n",
    "conn = psycopg2.connect(\n",
    "    host=\"aws-0-us-east-2.pooler.supabase.com\",\n",
    "    port=\"5432\",\n",
    "    dbname=\"postgres\",\n",
    "    user=\"postgres.fxpuwjgwfhkapgjinyss\",\n",
    "    password=\"Gu3ssagain@2025\",\n",
    "    sslmode=\"require\"  # Very important for Supabase\n",
    ")"
   ]
  },
  {
   "cell_type": "code",
   "execution_count": 8,
   "id": "865929ca",
   "metadata": {},
   "outputs": [
    {
     "name": "stdout",
     "output_type": "stream",
     "text": [
      "    product_name  product_id category  price_INR  price_USD\n",
      "0    AM Milk 500    25891101    Dairy        125        4.0\n",
      "1    AM Milk 250    25891102    Dairy         62        2.0\n",
      "2    AM Milk 100    25891103    Dairy         25        1.0\n",
      "3  AM Butter 100    25891201    Dairy         60        2.0\n",
      "4  AM Butter 250    25891202    Dairy        150        4.0\n"
     ]
    },
    {
     "name": "stderr",
     "output_type": "stream",
     "text": [
      "/var/folders/7_/vzxv0s1j43n3s8qd35q3b6_m0000gn/T/ipykernel_7448/2930969004.py:3: UserWarning: pandas only supports SQLAlchemy connectable (engine/connection) or database string URI or sqlite3 DBAPI2 connection. Other DBAPI2 objects are not tested. Please consider using SQLAlchemy.\n",
      "  df = pd.read_sql(query, conn)\n"
     ]
    }
   ],
   "source": [
    "# Example query\n",
    "query = \"SELECT * FROM dim_products;\"\n",
    "df = pd.read_sql(query, conn)\n",
    "print(df.head())\n",
    "\n",
    "conn.close()"
   ]
  },
  {
   "cell_type": "code",
   "execution_count": 9,
   "id": "9f76b4d7",
   "metadata": {},
   "outputs": [],
   "source": [
    "import os\n",
    "os.environ[\"OPENAI_API_KEY\"] = os.getenv(\"OPENAI_API_KEY\")\n"
   ]
  },
  {
   "cell_type": "code",
   "execution_count": 10,
   "id": "ce827e94",
   "metadata": {},
   "outputs": [],
   "source": [
    "from langchain_openai import ChatOpenAI\n",
    "llm = ChatOpenAI(model=\"gpt-4o\")"
   ]
  },
  {
   "cell_type": "code",
   "execution_count": 17,
   "id": "4b4b4442",
   "metadata": {},
   "outputs": [
    {
     "name": "stdout",
     "output_type": "stream",
     "text": [
      "The top 2 items based on price are:\n",
      "1. AM Butter 500 with a price of 300 INR (9 USD).\n",
      "2. AM Biscuits 750 with a price of 300 INR (9 USD).\n"
     ]
    }
   ],
   "source": [
    "from langchain_experimental.agents.agent_toolkits.pandas.base import create_pandas_dataframe_agent\n",
    "agent = create_pandas_dataframe_agent(\n",
    "    llm, \n",
    "    df, \n",
    "    #verbose=True, \n",
    "    allow_dangerous_code=True)\n",
    "\n",
    "response = agent.run(\"Give me the top 2 items based on price\")\n",
    "print(response)"
   ]
  },
  {
   "cell_type": "code",
   "execution_count": null,
   "id": "d482c56a",
   "metadata": {},
   "outputs": [],
   "source": []
  }
 ],
 "metadata": {
  "kernelspec": {
   "display_name": "Python 3",
   "language": "python",
   "name": "python3"
  },
  "language_info": {
   "codemirror_mode": {
    "name": "ipython",
    "version": 3
   },
   "file_extension": ".py",
   "mimetype": "text/x-python",
   "name": "python",
   "nbconvert_exporter": "python",
   "pygments_lexer": "ipython3",
   "version": "3.12.0"
  }
 },
 "nbformat": 4,
 "nbformat_minor": 5
}
