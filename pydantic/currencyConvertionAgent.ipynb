{
 "cells": [
  {
   "cell_type": "markdown",
   "id": "a28b5c95",
   "metadata": {},
   "source": [
    "## This is POC for creating a Tool and integrate with LLM"
   ]
  },
  {
   "cell_type": "markdown",
   "id": "ac177b02",
   "metadata": {},
   "source": [
    "### making tools"
   ]
  },
  {
   "cell_type": "code",
   "execution_count": 3,
   "id": "f88e9ba4",
   "metadata": {},
   "outputs": [],
   "source": [
    "from langchain_community.tools import tool\n",
    "from dotenv import load_dotenv\n",
    "import os\n",
    "load_dotenv()\n",
    "currency_key = os.getenv(\"CURRENCY_CONVERSION_KEY\")"
   ]
  },
  {
   "cell_type": "code",
   "execution_count": 4,
   "id": "bac65e72",
   "metadata": {},
   "outputs": [],
   "source": [
    "import requests\n",
    "@tool\n",
    "def currencyConverter(fromCurrency :str, toCurrency: str) -> dict:\n",
    "    '''This function fetch the currenct conversion factor between the base currency and the target currency'''\n",
    "    url = f\"https://apilayer.net/api/live?access_key={currency_key}&currencies={fromCurrency}&source={toCurrency}&format=1\"\n",
    "    response=requests.get(url)\n",
    "    return response.json()\n",
    "\n",
    "#currencyConverter(\"INR\",\"USD\")"
   ]
  },
  {
   "cell_type": "code",
   "execution_count": 5,
   "id": "784f48f0",
   "metadata": {},
   "outputs": [
    {
     "data": {
      "text/plain": [
       "{'success': True,\n",
       " 'terms': 'https://currencylayer.com/terms',\n",
       " 'privacy': 'https://currencylayer.com/privacy',\n",
       " 'timestamp': 1750127525,\n",
       " 'source': 'USD',\n",
       " 'quotes': {'USDINR': 86.12795}}"
      ]
     },
     "execution_count": 5,
     "metadata": {},
     "output_type": "execute_result"
    }
   ],
   "source": [
    "response = currencyConverter.invoke({'fromCurrency':'INR','toCurrency':'USD'})\n",
    "response"
   ]
  },
  {
   "cell_type": "code",
   "execution_count": 6,
   "id": "66cf47b1",
   "metadata": {},
   "outputs": [],
   "source": [
    "@tool\n",
    "def convertion(amount : int, convertionRate : float) -> float :\n",
    "    '''This function returns the product of amount given with the conversion rate'''\n",
    "    return round(amount * convertionRate,2)\n"
   ]
  },
  {
   "cell_type": "code",
   "execution_count": 7,
   "id": "26e4df57",
   "metadata": {},
   "outputs": [
    {
     "name": "stdout",
     "output_type": "stream",
     "text": [
      "940.94\n"
     ]
    }
   ],
   "source": [
    "response = convertion.invoke({'amount':11,'convertionRate':'85.54'})\n",
    "print(response)"
   ]
  },
  {
   "cell_type": "markdown",
   "id": "3b63f374",
   "metadata": {},
   "source": [
    "## Importing modules for LLM"
   ]
  },
  {
   "cell_type": "code",
   "execution_count": 8,
   "id": "24a1b049",
   "metadata": {},
   "outputs": [],
   "source": [
    "# initializing the keys from environment\n",
    "import os\n",
    "from dotenv import load_dotenv\n",
    "\n",
    "os.environ[\"OPENAI_API_KEY\"] = os.getenv(\"OPENAI_API_KEY\")\n",
    "os.environ[\"LANGCHAIN_API_KEY\"] = os.getenv(\"LANGCHAIN_API_KEY\")\n",
    "os.environ[\"LANGCHAIN_PROJECT\"] = os.getenv(\"LANGCHAIN_PROJECT\")\n",
    "os.environ[\"LANGCHAIN_TRACING_V2\"] = \"true\"\n"
   ]
  },
  {
   "cell_type": "code",
   "execution_count": 9,
   "id": "f9bbd1ee",
   "metadata": {},
   "outputs": [],
   "source": [
    "#initializing the LLM\n",
    "from langchain_openai import ChatOpenAI\n",
    "\n",
    "llm = ChatOpenAI(model=\"gpt-4o\")"
   ]
  },
  {
   "cell_type": "code",
   "execution_count": 10,
   "id": "7791a5ab",
   "metadata": {},
   "outputs": [
    {
     "data": {
      "text/plain": [
       "AIMessage(content='2 + 3 equals 5.', additional_kwargs={'refusal': None}, response_metadata={'token_usage': {'completion_tokens': 8, 'prompt_tokens': 14, 'total_tokens': 22, 'completion_tokens_details': {'accepted_prediction_tokens': 0, 'audio_tokens': 0, 'reasoning_tokens': 0, 'rejected_prediction_tokens': 0}, 'prompt_tokens_details': {'audio_tokens': 0, 'cached_tokens': 0}}, 'model_name': 'gpt-4o-2024-08-06', 'system_fingerprint': 'fp_a288987b44', 'id': 'chatcmpl-BjGQMfpBdR6NftrXQ6ktY6Hs3QzeP', 'service_tier': 'default', 'finish_reason': 'stop', 'logprobs': None}, id='run--667dcfd8-c278-43e0-a17f-f2e51ea87581-0', usage_metadata={'input_tokens': 14, 'output_tokens': 8, 'total_tokens': 22, 'input_token_details': {'audio': 0, 'cache_read': 0}, 'output_token_details': {'audio': 0, 'reasoning': 0}})"
      ]
     },
     "execution_count": 10,
     "metadata": {},
     "output_type": "execute_result"
    }
   ],
   "source": [
    "# Testing the LLM\n",
    "llm.invoke(\"what is 2+ 3\")"
   ]
  },
  {
   "cell_type": "markdown",
   "id": "1afe5202",
   "metadata": {},
   "source": [
    "## in the below step I will map the tools with the LLM"
   ]
  },
  {
   "cell_type": "markdown",
   "id": "f0a2f10c",
   "metadata": {},
   "source": []
  }
 ],
 "metadata": {
  "kernelspec": {
   "display_name": "Python 3",
   "language": "python",
   "name": "python3"
  },
  "language_info": {
   "codemirror_mode": {
    "name": "ipython",
    "version": 3
   },
   "file_extension": ".py",
   "mimetype": "text/x-python",
   "name": "python",
   "nbconvert_exporter": "python",
   "pygments_lexer": "ipython3",
   "version": "3.12.0"
  }
 },
 "nbformat": 4,
 "nbformat_minor": 5
}
