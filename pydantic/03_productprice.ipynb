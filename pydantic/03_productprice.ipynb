{
 "cells": [
  {
   "cell_type": "markdown",
   "id": "5408b78d",
   "metadata": {},
   "source": [
    "## this is a code to show the electronics product and there details and tentative price"
   ]
  },
  {
   "cell_type": "code",
   "execution_count": 1,
   "id": "795774ca",
   "metadata": {},
   "outputs": [
    {
     "data": {
      "text/plain": [
       "True"
      ]
     },
     "execution_count": 1,
     "metadata": {},
     "output_type": "execute_result"
    }
   ],
   "source": [
    "import os\n",
    "from dotenv import load_dotenv\n",
    "load_dotenv()"
   ]
  },
  {
   "cell_type": "markdown",
   "id": "0e14c44a",
   "metadata": {},
   "source": [
    "## Now loading the API keys from env"
   ]
  },
  {
   "cell_type": "code",
   "execution_count": 2,
   "id": "25e9f6eb",
   "metadata": {},
   "outputs": [],
   "source": [
    "os.environ[\"OPENAI_API_KEY\"] = os.getenv(\"OPENAI_API_KEY\")\n",
    "os.environ[\"LANGCHAIN_API_KEY\"] = os.getenv(\"LANGCHAIN_API_KEY\")\n",
    "#print(os.environ[\"OPENAI_API_KEY\"])\n"
   ]
  },
  {
   "cell_type": "markdown",
   "id": "06b565c5",
   "metadata": {},
   "source": [
    "## Setting the Product Model"
   ]
  },
  {
   "cell_type": "code",
   "execution_count": 8,
   "id": "356df81b",
   "metadata": {},
   "outputs": [],
   "source": [
    "from pydantic import BaseModel, Field\n",
    "\n",
    "class Product(BaseModel):\n",
    "    product_name: str = Field(dessription = \"This field is used to store the product name\")\n",
    "    product_desc: str = Field(dessription = \"This field is used to store the product description\")\n",
    "    product_price: float = Field(dessription = \"This field is used to store the product price in USD\")\n",
    "\n"
   ]
  },
  {
   "cell_type": "markdown",
   "id": "e9fcc7aa",
   "metadata": {},
   "source": [
    "## Setting the model"
   ]
  },
  {
   "cell_type": "code",
   "execution_count": 26,
   "id": "8048107d",
   "metadata": {},
   "outputs": [
    {
     "name": "stdout",
     "output_type": "stream",
     "text": [
      "client=<openai.resources.chat.completions.completions.Completions object at 0x118f04080> async_client=<openai.resources.chat.completions.completions.AsyncCompletions object at 0x118f16300> root_client=<openai.OpenAI object at 0x118f09790> root_async_client=<openai.AsyncOpenAI object at 0x118f04dd0> model_name='gpt-4o' model_kwargs={} openai_api_key=SecretStr('**********')\n"
     ]
    }
   ],
   "source": [
    "from langchain_core.prompts import PromptTemplate\n",
    "from langchain_core.output_parsers import JsonOutputParser\n",
    "from langchain_openai import ChatOpenAI\n",
    "llm = ChatOpenAI(model=\"gpt-4o\")\n",
    "print(llm)"
   ]
  },
  {
   "cell_type": "code",
   "execution_count": 37,
   "id": "0dab52a7",
   "metadata": {},
   "outputs": [
    {
     "name": "stdout",
     "output_type": "stream",
     "text": [
      "{'product_name': 'Weather Station', 'product_desc': 'A personal weather station to monitor real-time weather conditions at home.', 'product_price': 99.95}\n"
     ]
    }
   ],
   "source": [
    "#Setting up the parser and passing the object\n",
    "parser = JsonOutputParser(pydantic_object=Product)\n",
    "\n",
    "prompt = PromptTemplate(\n",
    "    template = \"You are an helpful assistant that takes a query{input} from user and gives the product description and tentative price in {format_instruction} \",\n",
    "    input_variables = [\"input\"],\n",
    "    partial_variables = {\"format_instruction\":parser.get_format_instructions()}\n",
    ")\n",
    "\n",
    "chain = prompt | llm | parser\n",
    "response = chain.invoke({\"input\":\"Tell me todays weather of New Jersey?\"})\n",
    "print(response)\n"
   ]
  },
  {
   "cell_type": "code",
   "execution_count": null,
   "id": "ed35373f",
   "metadata": {},
   "outputs": [],
   "source": []
  }
 ],
 "metadata": {
  "kernelspec": {
   "display_name": "Python 3",
   "language": "python",
   "name": "python3"
  },
  "language_info": {
   "codemirror_mode": {
    "name": "ipython",
    "version": 3
   },
   "file_extension": ".py",
   "mimetype": "text/x-python",
   "name": "python",
   "nbconvert_exporter": "python",
   "pygments_lexer": "ipython3",
   "version": "3.12.0"
  }
 },
 "nbformat": 4,
 "nbformat_minor": 5
}
